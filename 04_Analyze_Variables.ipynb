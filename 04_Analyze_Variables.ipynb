{
 "cells": [
  {
   "cell_type": "markdown",
   "metadata": {},
   "source": [
    "# Analyze Variables\n",
    "\n",
    "Now that we have data, what is there?\n",
    "\n",
    "For this, I break it down into a few steps:\n",
    "\n",
    "* Identify the types of variables\n",
    "* Have the variable describe itself (univariate analysis)\n",
    "* Compare the variable to other variables (bivariate analysis)"
   ]
  },
  {
   "cell_type": "markdown",
   "metadata": {},
   "source": [
    "## Default Dependencies (Again)\n",
    "\n",
    "These are the same dependencies I typically use...sloppily, quickly."
   ]
  },
  {
   "cell_type": "code",
   "execution_count": 1,
   "metadata": {
    "collapsed": true
   },
   "outputs": [],
   "source": [
    "%matplotlib inline\n",
    "from IPython.core.pylabtools import figsize\n",
    "import numpy as np\n",
    "import pandas as pd\n",
    "from matplotlib import pyplot as plt\n",
    "plt.style.use('ggplot')\n",
    "figsize(11,9)\n",
    "\n",
    "import scipy.stats as stats\n",
    "\n",
    "import pymc as pm"
   ]
  },
  {
   "cell_type": "code",
   "execution_count": 2,
   "metadata": {
    "collapsed": true
   },
   "outputs": [],
   "source": [
    "import requests\n",
    "\n",
    "from os.path import join, dirname\n",
    "import os\n",
    "from dotenv import load_dotenv, find_dotenv\n",
    "\n",
    "dotenv_path = join(dirname('__file__'), '.env')\n",
    "load_dotenv(dotenv_path)\n",
    "\n",
    "API_KEY = os.environ.get(\"API_KEY\")"
   ]
  },
  {
   "cell_type": "markdown",
   "metadata": {},
   "source": [
    "Also, here are some data frames, pre-loaded."
   ]
  },
  {
   "cell_type": "code",
   "execution_count": 3,
   "metadata": {
    "collapsed": false
   },
   "outputs": [
    {
     "name": "stdout",
     "output_type": "stream",
     "text": [
      "OK\n"
     ]
    }
   ],
   "source": [
    "git_logs_filename = 'data/popular_open_source_logs.csv'\n",
    "columns = ['timestamp', 'project', 'email', 'lines_inserted', 'lines_removed']\n",
    "git_logs = pd.read_csv(git_logs_filename, index_col='timestamp', usecols=columns)\n",
    "\n",
    "posts_filename = \"data/posts-2016-06-08-21-35-42.csv\"\n",
    "columns = ['Author', 'Time', 'Text', 'ProfileUrl', 'PostUrl', 'Lang',\n",
    "           'Sentiment']\n",
    "posts = pd.read_csv(posts_filename, parse_dates=['Time'], index_col='Time', usecols=columns)\n",
    "posts['HourOfDay'] = posts.index.hour\n",
    "posts['DayOfWeek'] = posts.index.dayofweek\n",
    "\n",
    "alternate_posts_filename = \"data/alt_posts-2016-06-06.csv\"\n",
    "columns = ['UniversalMessageId', 'SenderUserId', 'Title', 'Message',\n",
    "           'CreatedTime', 'Language', 'LanguageCode', 'CountryCode',\n",
    "           'MediaTypeList', 'Permalink', 'Domain', 'Spam', 'Action Time', 'Location']\n",
    "alternate_posts = pd.read_csv(alternate_posts_filename,\n",
    "                              usecols=columns,\n",
    "                              index_col='CreatedTime',\n",
    "                              parse_dates=['CreatedTime'])\n",
    "alternate_posts.MediaTypeList.fillna(value='Unknown', inplace=True)\n",
    "alternate_posts.SenderUserId.fillna(value='Unknown', inplace=True)\n",
    "\n",
    "# This is a County Business Patterns API endpoint\n",
    "url = \"http://api.census.gov/data/2014/cbp?key=%s&get=EMP,ESTAB,EMPSZES,EMPSZES_TTL,PAYANN&for=state:*\" % (API_KEY)\n",
    "result = requests.get(url)\n",
    "result.reason\n",
    "cbp = None\n",
    "if result.ok:\n",
    "    data = result.json()\n",
    "    cbp = pd.DataFrame(data[1:], columns=data[0])\n",
    "print(result.reason)"
   ]
  },
  {
   "cell_type": "markdown",
   "metadata": {},
   "source": [
    "## Identify Variables\n",
    "\n",
    "There are all kinds of variables.\n",
    "\n",
    "Predictor variables, Independent variables, sometimes Stochastic variables are all types of input parameters to our models.  Target variables, Dependent variables, Deterministic variables are all types of output variables to our models.  This is just taking a look at how we might use the data once we have it.\n",
    "\n",
    "The main breakdown between variables for exploratory analysis is whether it is categorical or continuous."
   ]
  },
  {
   "cell_type": "code",
   "execution_count": 4,
   "metadata": {
    "collapsed": false
   },
   "outputs": [
    {
     "data": {
      "text/plain": [
       "project           object\n",
       "email             object\n",
       "lines_inserted     int64\n",
       "lines_removed      int64\n",
       "dtype: object"
      ]
     },
     "execution_count": 4,
     "metadata": {},
     "output_type": "execute_result"
    }
   ],
   "source": [
    "git_logs.dtypes"
   ]
  },
  {
   "cell_type": "code",
   "execution_count": 5,
   "metadata": {
    "collapsed": false
   },
   "outputs": [
    {
     "data": {
      "text/html": [
       "<div>\n",
       "<table border=\"1\" class=\"dataframe\">\n",
       "  <thead>\n",
       "    <tr style=\"text-align: right;\">\n",
       "      <th></th>\n",
       "      <th>project</th>\n",
       "      <th>email</th>\n",
       "      <th>lines_inserted</th>\n",
       "      <th>lines_removed</th>\n",
       "    </tr>\n",
       "    <tr>\n",
       "      <th>timestamp</th>\n",
       "      <th></th>\n",
       "      <th></th>\n",
       "      <th></th>\n",
       "      <th></th>\n",
       "    </tr>\n",
       "  </thead>\n",
       "  <tbody>\n",
       "    <tr>\n",
       "      <th>1034527543</th>\n",
       "      <td>blender</td>\n",
       "      <td>hans@lambermont.dyndns.org</td>\n",
       "      <td>1389</td>\n",
       "      <td>0</td>\n",
       "    </tr>\n",
       "    <tr>\n",
       "      <th>1034710347</th>\n",
       "      <td>blender</td>\n",
       "      <td>hans@lambermont.dyndns.org</td>\n",
       "      <td>11</td>\n",
       "      <td>4</td>\n",
       "    </tr>\n",
       "    <tr>\n",
       "      <th>1034889370</th>\n",
       "      <td>blender</td>\n",
       "      <td>nlin@nlin.net</td>\n",
       "      <td>1</td>\n",
       "      <td>1</td>\n",
       "    </tr>\n",
       "    <tr>\n",
       "      <th>1034951794</th>\n",
       "      <td>blender</td>\n",
       "      <td>nlin@nlin.net</td>\n",
       "      <td>45</td>\n",
       "      <td>21</td>\n",
       "    </tr>\n",
       "    <tr>\n",
       "      <th>1034953322</th>\n",
       "      <td>blender</td>\n",
       "      <td>nlin@nlin.net</td>\n",
       "      <td>21829</td>\n",
       "      <td>0</td>\n",
       "    </tr>\n",
       "  </tbody>\n",
       "</table>\n",
       "</div>"
      ],
      "text/plain": [
       "            project                       email  lines_inserted  lines_removed\n",
       "timestamp                                                                     \n",
       "1034527543  blender  hans@lambermont.dyndns.org            1389              0\n",
       "1034710347  blender  hans@lambermont.dyndns.org              11              4\n",
       "1034889370  blender               nlin@nlin.net               1              1\n",
       "1034951794  blender               nlin@nlin.net              45             21\n",
       "1034953322  blender               nlin@nlin.net           21829              0"
      ]
     },
     "execution_count": 5,
     "metadata": {},
     "output_type": "execute_result"
    }
   ],
   "source": [
    "git_logs.head()"
   ]
  },
  {
   "cell_type": "markdown",
   "metadata": {},
   "source": [
    "For our git logs, the project name and email is **categorical** and the timestamp, lines inserted, and removed are **continuous**.  Notice our continuous columns are whole values in this case.  Most of our exploration won't need to make a distinction on that.  When I break out the timestamp by hour or day of the week, I'm using them as categorical values.  I'm trying to group and compare performance for the way humans like to behave rather than measure the sum of hours or days."
   ]
  },
  {
   "cell_type": "markdown",
   "metadata": {},
   "source": [
    "## Univariate Analysis\n",
    "\n",
    "So, univariate == one variable.  Just by looking at a variable directly, I can figure out a lot about it.  The kind of analysis that works depends on the kind of variable.\n",
    "\n",
    "### Continuous Variables\n",
    "\n",
    "For continuous variables, I'm interested in:\n",
    "\n",
    "* Central tendency\n",
    "* Dispersion\n",
    "* Histograms\n",
    "* Box plots\n",
    "* Scatterplots\n",
    "\n",
    "To set that up, let's take the git committers and count the net lines added.  That takes some group work that I talk about more in the Structure the Dataset notebook.  Here's the code for that:"
   ]
  },
  {
   "cell_type": "code",
   "execution_count": 13,
   "metadata": {
    "collapsed": false
   },
   "outputs": [],
   "source": [
    "git_logs['lines_diff'] = git_logs['lines_inserted'].shift(-1) - git_logs['lines_removed']\n",
    "committer_group = git_logs.groupby(['email'])\n",
    "lines_committed = pd.DataFrame(data=committer_group['lines_diff'].count())"
   ]
  },
  {
   "cell_type": "markdown",
   "metadata": {},
   "source": [
    "Basic central tendency can be shown with:"
   ]
  },
  {
   "cell_type": "code",
   "execution_count": 14,
   "metadata": {
    "collapsed": false
   },
   "outputs": [
    {
     "data": {
      "text/html": [
       "<div>\n",
       "<table border=\"1\" class=\"dataframe\">\n",
       "  <thead>\n",
       "    <tr style=\"text-align: right;\">\n",
       "      <th></th>\n",
       "      <th>lines_diff</th>\n",
       "    </tr>\n",
       "  </thead>\n",
       "  <tbody>\n",
       "    <tr>\n",
       "      <th>count</th>\n",
       "      <td>4666.000000</td>\n",
       "    </tr>\n",
       "    <tr>\n",
       "      <th>mean</th>\n",
       "      <td>43.290184</td>\n",
       "    </tr>\n",
       "    <tr>\n",
       "      <th>std</th>\n",
       "      <td>497.788020</td>\n",
       "    </tr>\n",
       "    <tr>\n",
       "      <th>min</th>\n",
       "      <td>1.000000</td>\n",
       "    </tr>\n",
       "    <tr>\n",
       "      <th>25%</th>\n",
       "      <td>1.000000</td>\n",
       "    </tr>\n",
       "    <tr>\n",
       "      <th>50%</th>\n",
       "      <td>2.000000</td>\n",
       "    </tr>\n",
       "    <tr>\n",
       "      <th>75%</th>\n",
       "      <td>6.000000</td>\n",
       "    </tr>\n",
       "    <tr>\n",
       "      <th>max</th>\n",
       "      <td>22998.000000</td>\n",
       "    </tr>\n",
       "  </tbody>\n",
       "</table>\n",
       "</div>"
      ],
      "text/plain": [
       "         lines_diff\n",
       "count   4666.000000\n",
       "mean      43.290184\n",
       "std      497.788020\n",
       "min        1.000000\n",
       "25%        1.000000\n",
       "50%        2.000000\n",
       "75%        6.000000\n",
       "max    22998.000000"
      ]
     },
     "execution_count": 14,
     "metadata": {},
     "output_type": "execute_result"
    }
   ],
   "source": [
    "lines_committed.describe()"
   ]
  },
  {
   "cell_type": "markdown",
   "metadata": {},
   "source": [
    "So, this means:\n",
    "\n",
    "* 4,666 people committed code to these 10 projects\n",
    "* On average, they committed 43 lines each\n",
    "* The median is only 2 lines of code, so we have a strong skew to the data\n",
    "* There is an incredibly high maximum contribution (more on that later)\n",
    "\n",
    "We can see what this looks like with a histogram:"
   ]
  },
  {
   "cell_type": "code",
   "execution_count": 65,
   "metadata": {
    "collapsed": false
   },
   "outputs": [
    {
     "data": {
      "text/plain": [
       "<matplotlib.axes._subplots.AxesSubplot at 0x10e28bf28>"
      ]
     },
     "execution_count": 65,
     "metadata": {},
     "output_type": "execute_result"
    },
    {
     "data": {
      "image/png": "[encoded data removed]",
      "text/plain": [
       "<matplotlib.figure.Figure at 0x10e2940f0>"
      ]
     },
     "metadata": {},
     "output_type": "display_data"
    }
   ],
   "source": [
    "lines_committed.lines_diff.hist()"
   ]
  },
  {
   "cell_type": "markdown",
   "metadata": {},
   "source": [
    "This isn't very useful.  However, it's not due to regular types of outliers.  There are a few people that have committed incredible amounts to these projects and a lot of people that have done small contributions.  In this case, let's take the lower 80% of the contributors and see what that looks like."
   ]
  },
  {
   "cell_type": "code",
   "execution_count": 50,
   "metadata": {
    "collapsed": false
   },
   "outputs": [
    {
     "data": {
      "text/html": [
       "<div>\n",
       "<table border=\"1\" class=\"dataframe\">\n",
       "  <thead>\n",
       "    <tr style=\"text-align: right;\">\n",
       "      <th></th>\n",
       "      <th>lines_diff</th>\n",
       "    </tr>\n",
       "  </thead>\n",
       "  <tbody>\n",
       "    <tr>\n",
       "      <th>count</th>\n",
       "      <td>3738.000000</td>\n",
       "    </tr>\n",
       "    <tr>\n",
       "      <th>mean</th>\n",
       "      <td>2.000803</td>\n",
       "    </tr>\n",
       "    <tr>\n",
       "      <th>std</th>\n",
       "      <td>1.636403</td>\n",
       "    </tr>\n",
       "    <tr>\n",
       "      <th>min</th>\n",
       "      <td>1.000000</td>\n",
       "    </tr>\n",
       "    <tr>\n",
       "      <th>25%</th>\n",
       "      <td>1.000000</td>\n",
       "    </tr>\n",
       "    <tr>\n",
       "      <th>50%</th>\n",
       "      <td>1.000000</td>\n",
       "    </tr>\n",
       "    <tr>\n",
       "      <th>75%</th>\n",
       "      <td>2.000000</td>\n",
       "    </tr>\n",
       "    <tr>\n",
       "      <th>max</th>\n",
       "      <td>8.000000</td>\n",
       "    </tr>\n",
       "  </tbody>\n",
       "</table>\n",
       "</div>"
      ],
      "text/plain": [
       "        lines_diff\n",
       "count  3738.000000\n",
       "mean      2.000803\n",
       "std       1.636403\n",
       "min       1.000000\n",
       "25%       1.000000\n",
       "50%       1.000000\n",
       "75%       2.000000\n",
       "max       8.000000"
      ]
     },
     "execution_count": 50,
     "metadata": {},
     "output_type": "execute_result"
    }
   ],
   "source": [
    "boundary = lines_committed.lines_diff.quantile(0.80)\n",
    "lower_portion = lines_committed.loc[lines_committed.lines_diff <= boundary]\n",
    "lower_portion.describe()"
   ]
  },
  {
   "cell_type": "code",
   "execution_count": 63,
   "metadata": {
    "collapsed": false
   },
   "outputs": [
    {
     "data": {
      "text/plain": [
       "array([[<matplotlib.axes._subplots.AxesSubplot object at 0x10e1ec9b0>]], dtype=object)"
      ]
     },
     "execution_count": 63,
     "metadata": {},
     "output_type": "execute_result"
    },
    {
     "data": {
      "image/png": "[encoded data removed]",
      "text/plain": [
       "<matplotlib.figure.Figure at 0x10720d710>"
      ]
     },
     "metadata": {},
     "output_type": "display_data"
    }
   ],
   "source": [
    "lower_portion.hist()"
   ]
  },
  {
   "cell_type": "markdown",
   "metadata": {},
   "source": [
    "What we see is 3,738 people committed 8 lines or fewer to thee projects.  That makes up 80% of the contributors on the projects.  Let's take a look at the upper 20%."
   ]
  },
  {
   "cell_type": "code",
   "execution_count": 52,
   "metadata": {
    "collapsed": false
   },
   "outputs": [
    {
     "data": {
      "text/html": [
       "<div>\n",
       "<table border=\"1\" class=\"dataframe\">\n",
       "  <thead>\n",
       "    <tr style=\"text-align: right;\">\n",
       "      <th></th>\n",
       "      <th>lines_diff</th>\n",
       "    </tr>\n",
       "  </thead>\n",
       "  <tbody>\n",
       "    <tr>\n",
       "      <th>count</th>\n",
       "      <td>928.000000</td>\n",
       "    </tr>\n",
       "    <tr>\n",
       "      <th>mean</th>\n",
       "      <td>209.604526</td>\n",
       "    </tr>\n",
       "    <tr>\n",
       "      <th>std</th>\n",
       "      <td>1101.094107</td>\n",
       "    </tr>\n",
       "    <tr>\n",
       "      <th>min</th>\n",
       "      <td>9.000000</td>\n",
       "    </tr>\n",
       "    <tr>\n",
       "      <th>25%</th>\n",
       "      <td>15.000000</td>\n",
       "    </tr>\n",
       "    <tr>\n",
       "      <th>50%</th>\n",
       "      <td>32.000000</td>\n",
       "    </tr>\n",
       "    <tr>\n",
       "      <th>75%</th>\n",
       "      <td>105.000000</td>\n",
       "    </tr>\n",
       "    <tr>\n",
       "      <th>max</th>\n",
       "      <td>22998.000000</td>\n",
       "    </tr>\n",
       "  </tbody>\n",
       "</table>\n",
       "</div>"
      ],
      "text/plain": [
       "         lines_diff\n",
       "count    928.000000\n",
       "mean     209.604526\n",
       "std     1101.094107\n",
       "min        9.000000\n",
       "25%       15.000000\n",
       "50%       32.000000\n",
       "75%      105.000000\n",
       "max    22998.000000"
      ]
     },
     "execution_count": 52,
     "metadata": {},
     "output_type": "execute_result"
    }
   ],
   "source": [
    "upper_portion = lines_committed.loc[lines_committed.lines_diff > boundary]\n",
    "upper_portion.describe()"
   ]
  },
  {
   "cell_type": "markdown",
   "metadata": {},
   "source": [
    "We still have a hard time seeing these people.  There are 928 of them.  They are still distributed to a small group of elites.  Let's do a log transform on this data instead."
   ]
  },
  {
   "cell_type": "code",
   "execution_count": 66,
   "metadata": {
    "collapsed": false
   },
   "outputs": [
    {
     "data": {
      "text/plain": [
       "count    4666.000000\n",
       "mean        0.490842\n",
       "std         0.684472\n",
       "min         0.000000\n",
       "25%         0.000000\n",
       "50%         0.301030\n",
       "75%         0.778151\n",
       "max         4.361690\n",
       "Name: lines_diff, dtype: float64"
      ]
     },
     "execution_count": 66,
     "metadata": {},
     "output_type": "execute_result"
    },
    {
     "data": {
      "image/png": "[encoded data removed]",
      "text/plain": [
       "<matplotlib.figure.Figure at 0x10e4d9240>"
      ]
     },
     "metadata": {},
     "output_type": "display_data"
    }
   ],
   "source": [
    "log_count = lines_committed.lines_diff.apply(np.log10)\n",
    "log_count.hist()\n",
    "log_count.describe()"
   ]
  },
  {
   "cell_type": "markdown",
   "metadata": {},
   "source": [
    "Another way to see this data is with a boxplot:"
   ]
  },
  {
   "cell_type": "code",
   "execution_count": 69,
   "metadata": {
    "collapsed": false
   },
   "outputs": [
    {
     "data": {
      "text/plain": [
       "<matplotlib.axes._subplots.AxesSubplot at 0x10f245fd0>"
      ]
     },
     "execution_count": 69,
     "metadata": {},
     "output_type": "execute_result"
    },
    {
     "data": {
      "image/png": "[encoded data removed]",
      "text/plain": [
       "<matplotlib.figure.Figure at 0x10f21e828>"
      ]
     },
     "metadata": {},
     "output_type": "display_data"
    }
   ],
   "source": [
    "lines_committed.boxplot(return_type='axes')"
   ]
  },
  {
   "cell_type": "markdown",
   "metadata": {},
   "source": [
    "### Categorical Variables\n",
    "\n",
    "The categorical variables can benefit from a count and count percentage of each category."
   ]
  },
  {
   "cell_type": "code",
   "execution_count": 73,
   "metadata": {
    "collapsed": false
   },
   "outputs": [
    {
     "data": {
      "text/plain": [
       "Index(['project', 'email', 'lines_inserted', 'lines_removed', 'lines_diff'], dtype='object')"
      ]
     },
     "execution_count": 73,
     "metadata": {},
     "output_type": "execute_result"
    }
   ],
   "source": [
    "git_logs.columns"
   ]
  },
  {
   "cell_type": "code",
   "execution_count": 84,
   "metadata": {
    "collapsed": false
   },
   "outputs": [
    {
     "data": {
      "text/html": [
       "<div>\n",
       "<table border=\"1\" class=\"dataframe\">\n",
       "  <thead>\n",
       "    <tr style=\"text-align: right;\">\n",
       "      <th></th>\n",
       "      <th>commit_count</th>\n",
       "      <th>proportion</th>\n",
       "    </tr>\n",
       "    <tr>\n",
       "      <th>project</th>\n",
       "      <th></th>\n",
       "      <th></th>\n",
       "    </tr>\n",
       "  </thead>\n",
       "  <tbody>\n",
       "    <tr>\n",
       "      <th>blender</th>\n",
       "      <td>62397</td>\n",
       "      <td>0.308904</td>\n",
       "    </tr>\n",
       "    <tr>\n",
       "      <th>d3</th>\n",
       "      <td>3035</td>\n",
       "      <td>0.015025</td>\n",
       "    </tr>\n",
       "    <tr>\n",
       "      <th>dolphin</th>\n",
       "      <td>16863</td>\n",
       "      <td>0.083482</td>\n",
       "    </tr>\n",
       "    <tr>\n",
       "      <th>git</th>\n",
       "      <td>32768</td>\n",
       "      <td>0.162222</td>\n",
       "    </tr>\n",
       "    <tr>\n",
       "      <th>piwik</th>\n",
       "      <td>20769</td>\n",
       "      <td>0.102819</td>\n",
       "    </tr>\n",
       "    <tr>\n",
       "      <th>platform</th>\n",
       "      <td>4378</td>\n",
       "      <td>0.021674</td>\n",
       "    </tr>\n",
       "    <tr>\n",
       "      <th>r-source</th>\n",
       "      <td>39284</td>\n",
       "      <td>0.194480</td>\n",
       "    </tr>\n",
       "    <tr>\n",
       "      <th>spark</th>\n",
       "      <td>14877</td>\n",
       "      <td>0.073650</td>\n",
       "    </tr>\n",
       "    <tr>\n",
       "      <th>sugarcrm_dev</th>\n",
       "      <td>56</td>\n",
       "      <td>0.000277</td>\n",
       "    </tr>\n",
       "    <tr>\n",
       "      <th>vagrant</th>\n",
       "      <td>7568</td>\n",
       "      <td>0.037466</td>\n",
       "    </tr>\n",
       "  </tbody>\n",
       "</table>\n",
       "</div>"
      ],
      "text/plain": [
       "              commit_count  proportion\n",
       "project                               \n",
       "blender              62397    0.308904\n",
       "d3                    3035    0.015025\n",
       "dolphin              16863    0.083482\n",
       "git                  32768    0.162222\n",
       "piwik                20769    0.102819\n",
       "platform              4378    0.021674\n",
       "r-source             39284    0.194480\n",
       "spark                14877    0.073650\n",
       "sugarcrm_dev            56    0.000277\n",
       "vagrant               7568    0.037466"
      ]
     },
     "execution_count": 84,
     "metadata": {},
     "output_type": "execute_result"
    }
   ],
   "source": [
    "project_group = git_logs.groupby('project')\n",
    "commit_counts = project_group.project.apply(lambda x: x.count())\n",
    "commit_count_portion = list(map(lambda x: x / commit_counts.sum(), commit_counts))\n",
    "count_df = pd.DataFrame(data={'commit_count': commit_counts, 'proportion': commit_count_portion})\n",
    "count_df"
   ]
  },
  {
   "cell_type": "code",
   "execution_count": 92,
   "metadata": {
    "collapsed": false
   },
   "outputs": [
    {
     "data": {
      "text/plain": [
       "<matplotlib.axes._subplots.AxesSubplot at 0x10ef7a898>"
      ]
     },
     "execution_count": 92,
     "metadata": {},
     "output_type": "execute_result"
    },
    {
     "data": {
      "image/png": "[encoded data removed]",
      "text/plain": [
       "<matplotlib.figure.Figure at 0x10efe7f28>"
      ]
     },
     "metadata": {},
     "output_type": "display_data"
    }
   ],
   "source": [
    "count_df.proportion.sort_values(ascending=False).plot(kind='bar')"
   ]
  },
  {
   "cell_type": "markdown",
   "metadata": {},
   "source": [
    "## Bivariate Analysis\n",
    "\n",
    "Once the data starts to make sense, it can be more interesting to see how things relate. "
   ]
  },
  {
   "cell_type": "markdown",
   "metadata": {},
   "source": [
    "### Continuous to Continuous\n",
    "\n",
    "Comparing continuous values is often quite easy.  In our posts data frame, we only have our newly-added columns that are continuous (so the scatterplot is simple):"
   ]
  },
  {
   "cell_type": "code",
   "execution_count": 96,
   "metadata": {
    "collapsed": false
   },
   "outputs": [
    {
     "data": {
      "text/plain": [
       "True"
      ]
     },
     "execution_count": 96,
     "metadata": {},
     "output_type": "execute_result"
    },
    {
     "data": {
      "image/png": "[encoded data removed]",
      "text/plain": [
       "<matplotlib.figure.Figure at 0x112927828>"
      ]
     },
     "metadata": {},
     "output_type": "display_data"
    }
   ],
   "source": [
    "pd.tools.plotting.scatter_matrix(posts, alpha=0.2)\n",
    "True"
   ]
  },
  {
   "cell_type": "markdown",
   "metadata": {},
   "source": [
    "Here, we can only see a weak bivariate comparison on Monday mornings."
   ]
  },
  {
   "cell_type": "code",
   "execution_count": 99,
   "metadata": {
    "collapsed": false
   },
   "outputs": [
    {
     "data": {
      "text/html": [
       "<div>\n",
       "<table border=\"1\" class=\"dataframe\">\n",
       "  <thead>\n",
       "    <tr style=\"text-align: right;\">\n",
       "      <th></th>\n",
       "      <th>project</th>\n",
       "      <th>email</th>\n",
       "      <th>lines_inserted</th>\n",
       "      <th>lines_removed</th>\n",
       "      <th>lines_diff</th>\n",
       "    </tr>\n",
       "    <tr>\n",
       "      <th>timestamp</th>\n",
       "      <th></th>\n",
       "      <th></th>\n",
       "      <th></th>\n",
       "      <th></th>\n",
       "      <th></th>\n",
       "    </tr>\n",
       "  </thead>\n",
       "  <tbody>\n",
       "    <tr>\n",
       "      <th>1034527543</th>\n",
       "      <td>blender</td>\n",
       "      <td>hans@lambermont.dyndns.org</td>\n",
       "      <td>1389</td>\n",
       "      <td>0</td>\n",
       "      <td>11</td>\n",
       "    </tr>\n",
       "    <tr>\n",
       "      <th>1034710347</th>\n",
       "      <td>blender</td>\n",
       "      <td>hans@lambermont.dyndns.org</td>\n",
       "      <td>11</td>\n",
       "      <td>4</td>\n",
       "      <td>-3</td>\n",
       "    </tr>\n",
       "    <tr>\n",
       "      <th>1034889370</th>\n",
       "      <td>blender</td>\n",
       "      <td>nlin@nlin.net</td>\n",
       "      <td>1</td>\n",
       "      <td>1</td>\n",
       "      <td>44</td>\n",
       "    </tr>\n",
       "    <tr>\n",
       "      <th>1034951794</th>\n",
       "      <td>blender</td>\n",
       "      <td>nlin@nlin.net</td>\n",
       "      <td>45</td>\n",
       "      <td>21</td>\n",
       "      <td>21808</td>\n",
       "    </tr>\n",
       "    <tr>\n",
       "      <th>1034953322</th>\n",
       "      <td>blender</td>\n",
       "      <td>nlin@nlin.net</td>\n",
       "      <td>21829</td>\n",
       "      <td>0</td>\n",
       "      <td>1419</td>\n",
       "    </tr>\n",
       "  </tbody>\n",
       "</table>\n",
       "</div>"
      ],
      "text/plain": [
       "            project                       email  lines_inserted  \\\n",
       "timestamp                                                         \n",
       "1034527543  blender  hans@lambermont.dyndns.org            1389   \n",
       "1034710347  blender  hans@lambermont.dyndns.org              11   \n",
       "1034889370  blender               nlin@nlin.net               1   \n",
       "1034951794  blender               nlin@nlin.net              45   \n",
       "1034953322  blender               nlin@nlin.net           21829   \n",
       "\n",
       "            lines_removed  lines_diff  \n",
       "timestamp                              \n",
       "1034527543              0          11  \n",
       "1034710347              4          -3  \n",
       "1034889370              1          44  \n",
       "1034951794             21       21808  \n",
       "1034953322              0        1419  "
      ]
     },
     "execution_count": 99,
     "metadata": {},
     "output_type": "execute_result"
    },
    {
     "data": {
      "image/png": "[encoded data removed]",
      "text/plain": [
       "<matplotlib.figure.Figure at 0x1133d8f60>"
      ]
     },
     "metadata": {},
     "output_type": "display_data"
    }
   ],
   "source": [
    "pd.tools.plotting.scatter_matrix(git_logs, alpha=0.2, diagonal='kde')\n",
    "git_logs.head()"
   ]
  },
  {
   "cell_type": "code",
   "execution_count": null,
   "metadata": {
    "collapsed": true
   },
   "outputs": [],
   "source": []
  }
 ],
 "metadata": {
  "kernelspec": {
   "display_name": "Python 3",
   "language": "python",
   "name": "python3"
  },
  "language_info": {
   "codemirror_mode": {
    "name": "ipython",
    "version": 3
   },
   "file_extension": ".py",
   "mimetype": "text/x-python",
   "name": "python",
   "nbconvert_exporter": "python",
   "pygments_lexer": "ipython3",
   "version": "3.5.0"
  }
 },
 "nbformat": 4,
 "nbformat_minor": 0
}
