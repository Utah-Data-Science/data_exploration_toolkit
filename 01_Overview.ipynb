{
 "cells": [
  {
   "cell_type": "markdown",
   "metadata": {},
   "source": [
    "# Exploratory Data Analysis\n",
    "\n",
    "At [Utah County Data Science Meetup](http://www.meetup.com/Utah-County-Data-Science-Meetup/), we try and make data science accessible.  These resources were first gathered for a presentation at that group, but will be maintained over time to continue to be useful.\n",
    "\n",
    "Following is a discussion of concepts and data visualizations.  As you can see, I use Jupyter to organize my Python code and matplotlib to visualize it.  Jeff Potter put together a [nice gist](https://gist.github.com/jpotts18/dc8b1cf97bae528f99a0) for getting your machine ready for this kind of work if you need to do that.\n",
    "\n",
    "The format of the conversation will be a demonstration on a few different data sets looking at categorical, continuous, causal and time series data.  We'll also look at treating outliers, handling missing values and transforming variables.  There will be some repetition for regular attendees (about 20-30%), but the whole topic will be presented together so that you'll have a regular toolset to make your work easier.  As a practitioner, David spends 60-80% of his time collecting and exploring data and the rest of the time doing the more-interesting modeling and reporting tasks.\n",
    "\n",
    "This discussion should be accessible for beginners and still useful for moderate and advanced users.\n",
    "\n",
    "\n",
    "## Steps towards Understanding\n",
    "\n",
    "So, this is generally where we're headed.  We want to be able to:\n",
    "\n",
    "* Gather Data\n",
    "* Handle Basic Problems\n",
    "* Analyze Variables\n",
    "* Structure the Dataset\n",
    "\n",
    "Please (please!) reach out to me with new ideas that have worked for you.  I'll keep updating this project with things that I discover that work better for me.\n",
    "\n",
    "### Links\n",
    "\n",
    "Here are a few links to dig deeper if you'd like.\n",
    "\n",
    "* [Setup Your Computer for Maching Learning Using Python](https://gist.github.com/jpotts18/dc8b1cf97bae528f99a0)\n",
    "* [Cheatsheet in Python](http://www.analyticsvidhya.com/blog/2015/06/infographic-cheat-sheet-data-exploration-python/)\n",
    "* [Springer Data Exploration](https://www.google.com/url?sa=t&rct=j&q=&esrc=s&source=web&cd=13&ved=0ahUKEwi6s8Gdx5fNAhVRK1IKHcQpC_g4ChAWCCkwAg&url=http%3A%2F%2Fwww.springer.com%2Fcda%2Fcontent%2Fdocument%2Fcda_downloaddocument%2F9781461413011-c2.pdf%3FSGWID%3D0-0-45-1264142-p174195168&usg=AFQjCNF_Lb_fWsK9aoG9f3Y47afBCiLiJw&bvm=bv.124088155,d.aXo&cad=rja)\n",
    "* [A Comprehensive Guide to Data Exploration](http://www.analyticsvidhya.com/blog/2016/01/guide-data-exploration/)\n",
    "* [Cheatsheet in R](http://www.analyticsvidhya.com/blog/2015/10/cheatsheet-11-steps-data-exploration-with-codes/)\n",
    "* [Udacity Course](https://www.udacity.com/course/intro-to-descriptive-statistics--ud827)\n",
    "\n"
   ]
  },
  {
   "cell_type": "code",
   "execution_count": null,
   "metadata": {
    "collapsed": true
   },
   "outputs": [],
   "source": []
  }
 ],
 "metadata": {
  "kernelspec": {
   "display_name": "Python 3",
   "language": "python",
   "name": "python3"
  },
  "language_info": {
   "codemirror_mode": {
    "name": "ipython",
    "version": 3
   },
   "file_extension": ".py",
   "mimetype": "text/x-python",
   "name": "python",
   "nbconvert_exporter": "python",
   "pygments_lexer": "ipython3",
   "version": "3.5.0"
  }
 },
 "nbformat": 4,
 "nbformat_minor": 0
}
