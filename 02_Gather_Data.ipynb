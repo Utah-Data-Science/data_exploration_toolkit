{
 "cells": [
  {
   "cell_type": "markdown",
   "metadata": {},
   "source": [
    "# Gather Data\n",
    "\n",
    "Our goal is to bring the data into our notebook with Pandas and DataFrames.  I tend to prefer getting data from a CSV file or similar, but I can also get data from an API which I'll demonstrate.  This generally means:\n",
    "\n",
    "* Setup common dependencies\n",
    "* Import CSV\n",
    "* Import API\n",
    "* Handle indices and columns\n",
    "* Sort\n",
    "* Set data types on columns"
   ]
  },
  {
   "cell_type": "markdown",
   "metadata": {},
   "source": [
    "## Setup Common Dependencies\n",
    "\n",
    "I tend to copy around some of the same dependencies from notebook to notebook.  Some of this I don't necessarily use all the time, but the project feels simple and direct.\n",
    "\n",
    "**Style** One of the options I like to do is set the ggplot style on matplotlib.  It just has a little nicer approach to white space and color.  I also set the figsize, which is a tuple in inches.  I like a larger format so I can show someone in the room what I'm seeing so far."
   ]
  },
  {
   "cell_type": "code",
   "execution_count": 1,
   "metadata": {
    "collapsed": true
   },
   "outputs": [],
   "source": [
    "%matplotlib inline\n",
    "from IPython.core.pylabtools import figsize\n",
    "import numpy as np\n",
    "import pandas as pd\n",
    "from matplotlib import pyplot as plt\n",
    "plt.style.use('ggplot')\n",
    "figsize(11,9)\n",
    "\n",
    "import scipy.stats as stats\n",
    "\n",
    "import pymc as pm"
   ]
  },
  {
   "cell_type": "markdown",
   "metadata": {},
   "source": [
    "## Import CSV\n",
    "\n",
    "The common way to get data into a DataFrame is with `read_csv`.  The seperator can be added on `read_csv` if you have tab delimited or pipe delimited or otherwise delimited data.  There are other useful features like setting index_col for specifying which columns should be used for the index.  The documentation is [found here](http://pandas.pydata.org/pandas-docs/stable/generated/pandas.read_csv.html)."
   ]
  },
  {
   "cell_type": "code",
   "execution_count": 2,
   "metadata": {
    "collapsed": false
   },
   "outputs": [],
   "source": [
    "git_logs_filename = 'data/popular_open_source_logs.csv'\n",
    "df = pd.read_csv(git_logs_filename)"
   ]
  },
  {
   "cell_type": "markdown",
   "metadata": {},
   "source": [
    "### Excel Files\n",
    "\n",
    "Excel file import uses a module called `xlrd`.  Instead of trying to handle that in Pandas, I typically prefer to take a look at these kinds of files in a spreadsheet and then export a CSV.  That's because of the highly variable concept we have about what makes a spreadsheet.  If you do want to use input data as Excel, here is the [documentation](http://pandas.pydata.org/pandas-docs/stable/generated/pandas.read_excel.html) for that.  There are a lot of tools in there for picking out the table you're after."
   ]
  },
  {
   "cell_type": "code",
   "execution_count": 3,
   "metadata": {
    "collapsed": false
   },
   "outputs": [
    {
     "data": {
      "text/html": [
       "<div>\n",
       "<table border=\"1\" class=\"dataframe\">\n",
       "  <thead>\n",
       "    <tr style=\"text-align: right;\">\n",
       "      <th></th>\n",
       "      <th>UniversalMessageId</th>\n",
       "      <th>SocialNetwork</th>\n",
       "      <th>SenderUserId</th>\n",
       "      <th>SenderScreenName</th>\n",
       "      <th>SenderListedName</th>\n",
       "      <th>SenderProfileImgUrl</th>\n",
       "      <th>SenderProfileLink</th>\n",
       "      <th>Sender Followers Count</th>\n",
       "      <th>SenderKloutScore</th>\n",
       "      <th>SenderAge</th>\n",
       "      <th>...</th>\n",
       "      <th>Geo Target</th>\n",
       "      <th>Post Id</th>\n",
       "      <th>Associated Cases</th>\n",
       "      <th>Location</th>\n",
       "      <th>Country</th>\n",
       "      <th>State</th>\n",
       "      <th>City</th>\n",
       "      <th>Latitude</th>\n",
       "      <th>Longitude</th>\n",
       "      <th>Sender Email</th>\n",
       "    </tr>\n",
       "  </thead>\n",
       "  <tbody>\n",
       "    <tr>\n",
       "      <th>0</th>\n",
       "      <td>WEB_115_sg_57557f1a111</td>\n",
       "      <td>WEB</td>\n",
       "      <td>NaN</td>\n",
       "      <td>NaN</td>\n",
       "      <td>NaN</td>\n",
       "      <td>NaN</td>\n",
       "      <td>NaN</td>\n",
       "      <td>NaN</td>\n",
       "      <td>NaN</td>\n",
       "      <td>NaN</td>\n",
       "      <td>...</td>\n",
       "      <td>NaN</td>\n",
       "      <td>NaN</td>\n",
       "      <td>NaN</td>\n",
       "      <td>Germany</td>\n",
       "      <td>NaN</td>\n",
       "      <td>NaN</td>\n",
       "      <td>NaN</td>\n",
       "      <td>0</td>\n",
       "      <td>0</td>\n",
       "      <td>NaN</td>\n",
       "    </tr>\n",
       "    <tr>\n",
       "      <th>1</th>\n",
       "      <td>WEB_115_sg_57557ee2a7</td>\n",
       "      <td>WEB</td>\n",
       "      <td>NaN</td>\n",
       "      <td>NaN</td>\n",
       "      <td>NaN</td>\n",
       "      <td>NaN</td>\n",
       "      <td>NaN</td>\n",
       "      <td>NaN</td>\n",
       "      <td>NaN</td>\n",
       "      <td>NaN</td>\n",
       "      <td>...</td>\n",
       "      <td>NaN</td>\n",
       "      <td>NaN</td>\n",
       "      <td>NaN</td>\n",
       "      <td>Unknown</td>\n",
       "      <td>NaN</td>\n",
       "      <td>NaN</td>\n",
       "      <td>NaN</td>\n",
       "      <td>0</td>\n",
       "      <td>0</td>\n",
       "      <td>NaN</td>\n",
       "    </tr>\n",
       "    <tr>\n",
       "      <th>2</th>\n",
       "      <td>WEB_115_sg_57557ddcab</td>\n",
       "      <td>WEB</td>\n",
       "      <td>NaN</td>\n",
       "      <td>NaN</td>\n",
       "      <td>NaN</td>\n",
       "      <td>NaN</td>\n",
       "      <td>NaN</td>\n",
       "      <td>NaN</td>\n",
       "      <td>NaN</td>\n",
       "      <td>NaN</td>\n",
       "      <td>...</td>\n",
       "      <td>NaN</td>\n",
       "      <td>NaN</td>\n",
       "      <td>NaN</td>\n",
       "      <td>United States</td>\n",
       "      <td>NaN</td>\n",
       "      <td>NaN</td>\n",
       "      <td>NaN</td>\n",
       "      <td>0</td>\n",
       "      <td>0</td>\n",
       "      <td>NaN</td>\n",
       "    </tr>\n",
       "    <tr>\n",
       "      <th>3</th>\n",
       "      <td>WEB_115_sg_57557d1174</td>\n",
       "      <td>WEB</td>\n",
       "      <td>NaN</td>\n",
       "      <td>NaN</td>\n",
       "      <td>NaN</td>\n",
       "      <td>NaN</td>\n",
       "      <td>NaN</td>\n",
       "      <td>NaN</td>\n",
       "      <td>NaN</td>\n",
       "      <td>NaN</td>\n",
       "      <td>...</td>\n",
       "      <td>NaN</td>\n",
       "      <td>NaN</td>\n",
       "      <td>NaN</td>\n",
       "      <td>United States</td>\n",
       "      <td>NaN</td>\n",
       "      <td>NaN</td>\n",
       "      <td>NaN</td>\n",
       "      <td>0</td>\n",
       "      <td>0</td>\n",
       "      <td>NaN</td>\n",
       "    </tr>\n",
       "    <tr>\n",
       "      <th>4</th>\n",
       "      <td>WEB_115_sg_57557ca37</td>\n",
       "      <td>WEB</td>\n",
       "      <td>NaN</td>\n",
       "      <td>NaN</td>\n",
       "      <td>NaN</td>\n",
       "      <td>NaN</td>\n",
       "      <td>NaN</td>\n",
       "      <td>NaN</td>\n",
       "      <td>NaN</td>\n",
       "      <td>NaN</td>\n",
       "      <td>...</td>\n",
       "      <td>NaN</td>\n",
       "      <td>NaN</td>\n",
       "      <td>NaN</td>\n",
       "      <td>United States</td>\n",
       "      <td>NaN</td>\n",
       "      <td>NaN</td>\n",
       "      <td>NaN</td>\n",
       "      <td>0</td>\n",
       "      <td>0</td>\n",
       "      <td>NaN</td>\n",
       "    </tr>\n",
       "  </tbody>\n",
       "</table>\n",
       "<p>5 rows × 57 columns</p>\n",
       "</div>"
      ],
      "text/plain": [
       "       UniversalMessageId SocialNetwork SenderUserId SenderScreenName  \\\n",
       "0  WEB_115_sg_57557f1a111           WEB          NaN              NaN   \n",
       "1   WEB_115_sg_57557ee2a7           WEB          NaN              NaN   \n",
       "2   WEB_115_sg_57557ddcab           WEB          NaN              NaN   \n",
       "3   WEB_115_sg_57557d1174           WEB          NaN              NaN   \n",
       "4    WEB_115_sg_57557ca37           WEB          NaN              NaN   \n",
       "\n",
       "  SenderListedName SenderProfileImgUrl  SenderProfileLink  \\\n",
       "0              NaN                 NaN                NaN   \n",
       "1              NaN                 NaN                NaN   \n",
       "2              NaN                 NaN                NaN   \n",
       "3              NaN                 NaN                NaN   \n",
       "4              NaN                 NaN                NaN   \n",
       "\n",
       "   Sender Followers Count  SenderKloutScore  SenderAge     ...       \\\n",
       "0                     NaN               NaN        NaN     ...        \n",
       "1                     NaN               NaN        NaN     ...        \n",
       "2                     NaN               NaN        NaN     ...        \n",
       "3                     NaN               NaN        NaN     ...        \n",
       "4                     NaN               NaN        NaN     ...        \n",
       "\n",
       "   Geo Target Post Id Associated Cases       Location Country State City  \\\n",
       "0         NaN     NaN              NaN        Germany     NaN   NaN  NaN   \n",
       "1         NaN     NaN              NaN        Unknown     NaN   NaN  NaN   \n",
       "2         NaN     NaN              NaN  United States     NaN   NaN  NaN   \n",
       "3         NaN     NaN              NaN  United States     NaN   NaN  NaN   \n",
       "4         NaN     NaN              NaN  United States     NaN   NaN  NaN   \n",
       "\n",
       "  Latitude Longitude Sender Email  \n",
       "0        0         0          NaN  \n",
       "1        0         0          NaN  \n",
       "2        0         0          NaN  \n",
       "3        0         0          NaN  \n",
       "4        0         0          NaN  \n",
       "\n",
       "[5 rows x 57 columns]"
      ]
     },
     "execution_count": 3,
     "metadata": {},
     "output_type": "execute_result"
    }
   ],
   "source": [
    "alternate_posts_filename = \"data/alt_posts-2016-06-06.csv\"\n",
    "alternate_posts = pd.read_csv(alternate_posts_filename)\n",
    "alternate_posts.head()"
   ]
  },
  {
   "cell_type": "markdown",
   "metadata": {},
   "source": [
    "This data frame is particularly messy and sparse.  We'll have fun with it."
   ]
  },
  {
   "cell_type": "markdown",
   "metadata": {},
   "source": [
    "## Import API\n",
    "\n",
    "Sometimes it's more useful to bring in data from an API and either store it as a CSV or continue to consume the data as I work.  This takes a couple new tools:\n",
    "\n",
    "* requests\n",
    "* API token\n",
    "\n",
    "The [requests library](http://docs.python-requests.org/en/master/) is \"HTTP for Humans.\"  It makes it fairly easy to get data from an API.  \n",
    "    \n",
    "`requests` can handle various types of authentication, but we're going to grab some US Census data, so you'll **need an API key for that.**  It takes about 2-3 minutes to get one, and you start [here](http://api.census.gov/data/key_signup.html).\n",
    "\n",
    "I keep my tokens out of sight and out of the git repository.  That means my `.gitignore` file has a line on it with `.env` on it.  I thien use the [python-dotenv](https://github.com/theskumar/python-dotenv) package to load that data into my scripts."
   ]
  },
  {
   "cell_type": "code",
   "execution_count": 4,
   "metadata": {
    "collapsed": false
   },
   "outputs": [
    {
     "name": "stdout",
     "output_type": "stream",
     "text": [
      "OK\n"
     ]
    }
   ],
   "source": [
    "import requests\n",
    "\n",
    "from os.path import join, dirname\n",
    "import os\n",
    "from dotenv import load_dotenv, find_dotenv\n",
    "\n",
    "dotenv_path = join(dirname('__file__'), '.env')\n",
    "load_dotenv(dotenv_path)\n",
    "\n",
    "API_KEY = os.environ.get(\"API_KEY\")\n",
    "\n",
    "# This is a County Business Patterns API endpoint\n",
    "url = \"http://api.census.gov/data/2014/cbp?key=%s&get=EMP,ESTAB,EMPSZES,EMPSZES_TTL,PAYANN&for=state:*\" % (API_KEY)\n",
    "result = requests.get(url)\n",
    "result.reason\n",
    "cbp = None\n",
    "if result.ok:\n",
    "    data = result.json()\n",
    "    cbp = pd.DataFrame(data[1:], columns=data[0])\n",
    "print(result.reason)"
   ]
  },
  {
   "cell_type": "code",
   "execution_count": 5,
   "metadata": {
    "collapsed": false
   },
   "outputs": [
    {
     "data": {
      "text/html": [
       "<div>\n",
       "<table border=\"1\" class=\"dataframe\">\n",
       "  <thead>\n",
       "    <tr style=\"text-align: right;\">\n",
       "      <th></th>\n",
       "      <th>EMP</th>\n",
       "      <th>ESTAB</th>\n",
       "      <th>EMPSZES</th>\n",
       "      <th>EMPSZES_TTL</th>\n",
       "      <th>PAYANN</th>\n",
       "      <th>state</th>\n",
       "    </tr>\n",
       "  </thead>\n",
       "  <tbody>\n",
       "    <tr>\n",
       "      <th>0</th>\n",
       "      <td>1604016</td>\n",
       "      <td>97714</td>\n",
       "      <td>001</td>\n",
       "      <td>All establishments</td>\n",
       "      <td>64291502</td>\n",
       "      <td>01</td>\n",
       "    </tr>\n",
       "    <tr>\n",
       "      <th>1</th>\n",
       "      <td>92653</td>\n",
       "      <td>48319</td>\n",
       "      <td>212</td>\n",
       "      <td>Establishments with 1 to 4 employees</td>\n",
       "      <td>3451814</td>\n",
       "      <td>01</td>\n",
       "    </tr>\n",
       "    <tr>\n",
       "      <th>2</th>\n",
       "      <td>137019</td>\n",
       "      <td>20741</td>\n",
       "      <td>220</td>\n",
       "      <td>Establishments with 5 to 9 employees</td>\n",
       "      <td>4496433</td>\n",
       "      <td>01</td>\n",
       "    </tr>\n",
       "    <tr>\n",
       "      <th>3</th>\n",
       "      <td>185488</td>\n",
       "      <td>13759</td>\n",
       "      <td>230</td>\n",
       "      <td>Establishments with 10 to 19 employees</td>\n",
       "      <td>6423509</td>\n",
       "      <td>01</td>\n",
       "    </tr>\n",
       "    <tr>\n",
       "      <th>4</th>\n",
       "      <td>285878</td>\n",
       "      <td>9511</td>\n",
       "      <td>241</td>\n",
       "      <td>Establishments with 20 to 49 employees</td>\n",
       "      <td>10117574</td>\n",
       "      <td>01</td>\n",
       "    </tr>\n",
       "  </tbody>\n",
       "</table>\n",
       "</div>"
      ],
      "text/plain": [
       "       EMP  ESTAB EMPSZES                             EMPSZES_TTL    PAYANN  \\\n",
       "0  1604016  97714     001                      All establishments  64291502   \n",
       "1    92653  48319     212    Establishments with 1 to 4 employees   3451814   \n",
       "2   137019  20741     220    Establishments with 5 to 9 employees   4496433   \n",
       "3   185488  13759     230  Establishments with 10 to 19 employees   6423509   \n",
       "4   285878   9511     241  Establishments with 20 to 49 employees  10117574   \n",
       "\n",
       "  state  \n",
       "0    01  \n",
       "1    01  \n",
       "2    01  \n",
       "3    01  \n",
       "4    01  "
      ]
     },
     "execution_count": 5,
     "metadata": {},
     "output_type": "execute_result"
    }
   ],
   "source": [
    "cbp.head()"
   ]
  },
  {
   "cell_type": "markdown",
   "metadata": {},
   "source": [
    "## Handle Indices and Columns\n",
    "\n",
    "Sometimes we can get a more-manageable data frame by figuring out the columns and indices first."
   ]
  },
  {
   "cell_type": "code",
   "execution_count": 6,
   "metadata": {
    "collapsed": false
   },
   "outputs": [
    {
     "data": {
      "text/html": [
       "<div>\n",
       "<table border=\"1\" class=\"dataframe\">\n",
       "  <thead>\n",
       "    <tr style=\"text-align: right;\">\n",
       "      <th></th>\n",
       "      <th>project</th>\n",
       "      <th>email</th>\n",
       "      <th>lines_inserted</th>\n",
       "      <th>lines_removed</th>\n",
       "    </tr>\n",
       "    <tr>\n",
       "      <th>timestamp</th>\n",
       "      <th></th>\n",
       "      <th></th>\n",
       "      <th></th>\n",
       "      <th></th>\n",
       "    </tr>\n",
       "  </thead>\n",
       "  <tbody>\n",
       "    <tr>\n",
       "      <th>1034527543</th>\n",
       "      <td>blender</td>\n",
       "      <td>hans@lambermont.dyndns.org</td>\n",
       "      <td>1389</td>\n",
       "      <td>0</td>\n",
       "    </tr>\n",
       "    <tr>\n",
       "      <th>1034710347</th>\n",
       "      <td>blender</td>\n",
       "      <td>hans@lambermont.dyndns.org</td>\n",
       "      <td>11</td>\n",
       "      <td>4</td>\n",
       "    </tr>\n",
       "    <tr>\n",
       "      <th>1034889370</th>\n",
       "      <td>blender</td>\n",
       "      <td>nlin@nlin.net</td>\n",
       "      <td>1</td>\n",
       "      <td>1</td>\n",
       "    </tr>\n",
       "    <tr>\n",
       "      <th>1034951794</th>\n",
       "      <td>blender</td>\n",
       "      <td>nlin@nlin.net</td>\n",
       "      <td>45</td>\n",
       "      <td>21</td>\n",
       "    </tr>\n",
       "    <tr>\n",
       "      <th>1034953322</th>\n",
       "      <td>blender</td>\n",
       "      <td>nlin@nlin.net</td>\n",
       "      <td>21829</td>\n",
       "      <td>0</td>\n",
       "    </tr>\n",
       "  </tbody>\n",
       "</table>\n",
       "</div>"
      ],
      "text/plain": [
       "            project                       email  lines_inserted  lines_removed\n",
       "timestamp                                                                     \n",
       "1034527543  blender  hans@lambermont.dyndns.org            1389              0\n",
       "1034710347  blender  hans@lambermont.dyndns.org              11              4\n",
       "1034889370  blender               nlin@nlin.net               1              1\n",
       "1034951794  blender               nlin@nlin.net              45             21\n",
       "1034953322  blender               nlin@nlin.net           21829              0"
      ]
     },
     "execution_count": 6,
     "metadata": {},
     "output_type": "execute_result"
    }
   ],
   "source": [
    "columns = ['timestamp', 'project', 'email', 'lines_inserted', 'lines_removed']\n",
    "git_logs = pd.read_csv(git_logs_filename, index_col='timestamp', usecols=columns)\n",
    "git_logs.head()"
   ]
  },
  {
   "cell_type": "markdown",
   "metadata": {},
   "source": [
    "## Sort\n",
    "\n",
    "The syntax for sort now is `sort_values(by=...)`. We can use this to sort by a non-index value."
   ]
  },
  {
   "cell_type": "code",
   "execution_count": 7,
   "metadata": {
    "collapsed": false
   },
   "outputs": [
    {
     "data": {
      "text/html": [
       "<div>\n",
       "<table border=\"1\" class=\"dataframe\">\n",
       "  <thead>\n",
       "    <tr style=\"text-align: right;\">\n",
       "      <th></th>\n",
       "      <th>project</th>\n",
       "      <th>email</th>\n",
       "      <th>lines_inserted</th>\n",
       "      <th>lines_removed</th>\n",
       "    </tr>\n",
       "    <tr>\n",
       "      <th>timestamp</th>\n",
       "      <th></th>\n",
       "      <th></th>\n",
       "      <th></th>\n",
       "      <th></th>\n",
       "    </tr>\n",
       "  </thead>\n",
       "  <tbody>\n",
       "    <tr>\n",
       "      <th>1465068169</th>\n",
       "      <td>vagrant</td>\n",
       "      <td>sethvargo@gmail.com</td>\n",
       "      <td>1</td>\n",
       "      <td>0</td>\n",
       "    </tr>\n",
       "    <tr>\n",
       "      <th>1343442580</th>\n",
       "      <td>vagrant</td>\n",
       "      <td>mitchell.hashimoto@gmail.com</td>\n",
       "      <td>59</td>\n",
       "      <td>56</td>\n",
       "    </tr>\n",
       "    <tr>\n",
       "      <th>1342477491</th>\n",
       "      <td>vagrant</td>\n",
       "      <td>mitchell.hashimoto@gmail.com</td>\n",
       "      <td>17</td>\n",
       "      <td>1</td>\n",
       "    </tr>\n",
       "    <tr>\n",
       "      <th>1343190758</th>\n",
       "      <td>vagrant</td>\n",
       "      <td>mitchell.hashimoto@gmail.com</td>\n",
       "      <td>1524</td>\n",
       "      <td>1427</td>\n",
       "    </tr>\n",
       "    <tr>\n",
       "      <th>1343254261</th>\n",
       "      <td>vagrant</td>\n",
       "      <td>mitchell.hashimoto@gmail.com</td>\n",
       "      <td>1</td>\n",
       "      <td>1</td>\n",
       "    </tr>\n",
       "  </tbody>\n",
       "</table>\n",
       "</div>"
      ],
      "text/plain": [
       "            project                         email  lines_inserted  \\\n",
       "timestamp                                                           \n",
       "1465068169  vagrant           sethvargo@gmail.com               1   \n",
       "1343442580  vagrant  mitchell.hashimoto@gmail.com              59   \n",
       "1342477491  vagrant  mitchell.hashimoto@gmail.com              17   \n",
       "1343190758  vagrant  mitchell.hashimoto@gmail.com            1524   \n",
       "1343254261  vagrant  mitchell.hashimoto@gmail.com               1   \n",
       "\n",
       "            lines_removed  \n",
       "timestamp                  \n",
       "1465068169              0  \n",
       "1343442580             56  \n",
       "1342477491              1  \n",
       "1343190758           1427  \n",
       "1343254261              1  "
      ]
     },
     "execution_count": 7,
     "metadata": {},
     "output_type": "execute_result"
    }
   ],
   "source": [
    "git_logs.sort_values(by='project', ascending=False, inplace=True)\n",
    "git_logs.head()"
   ]
  },
  {
   "cell_type": "markdown",
   "metadata": {},
   "source": [
    "## Set Data Types on Columns\n",
    "\n",
    "Often I need to help Pandas figure out what's in my data.  You can either set converters as you bring the data in or make transformation on the data once it's arrived.\n",
    "\n",
    "Also, time columns have special tools like `parse_dates`, `infer_datetime_format`, `keep_date_col`, `date_parser`, and `day_first`.\n",
    "\n",
    "If you're not sure what you have, you can use dtypes on the data frame to see what you're starting with."
   ]
  },
  {
   "cell_type": "code",
   "execution_count": 8,
   "metadata": {
    "collapsed": false
   },
   "outputs": [
    {
     "data": {
      "text/plain": [
       "project           object\n",
       "email             object\n",
       "lines_inserted     int64\n",
       "lines_removed      int64\n",
       "dtype: object"
      ]
     },
     "execution_count": 8,
     "metadata": {},
     "output_type": "execute_result"
    }
   ],
   "source": [
    "git_logs.dtypes"
   ]
  },
  {
   "cell_type": "code",
   "execution_count": 9,
   "metadata": {
    "collapsed": false
   },
   "outputs": [
    {
     "data": {
      "text/html": [
       "<div>\n",
       "<table border=\"1\" class=\"dataframe\">\n",
       "  <thead>\n",
       "    <tr style=\"text-align: right;\">\n",
       "      <th></th>\n",
       "      <th>Author</th>\n",
       "      <th>Text</th>\n",
       "      <th>ProfileUrl</th>\n",
       "      <th>PostUrl</th>\n",
       "      <th>Lang</th>\n",
       "      <th>Sentiment</th>\n",
       "      <th>HourOfDay</th>\n",
       "      <th>DayOfWeek</th>\n",
       "    </tr>\n",
       "    <tr>\n",
       "      <th>Time</th>\n",
       "      <th></th>\n",
       "      <th></th>\n",
       "      <th></th>\n",
       "      <th></th>\n",
       "      <th></th>\n",
       "      <th></th>\n",
       "      <th></th>\n",
       "      <th></th>\n",
       "    </tr>\n",
       "  </thead>\n",
       "  <tbody>\n",
       "    <tr>\n",
       "      <th>2016-05-31 02:40:00</th>\n",
       "      <td>Organ Transplant Immunosuppressant Drugs Marke...</td>\n",
       "      <td>Organ Transplant Immunosuppressant Drugs Marke...</td>\n",
       "      <td>http://news.scoopasia.com/index.php/news/organ...</td>\n",
       "      <td>http://news.scoopasia.com/index.php/news/organ...</td>\n",
       "      <td>en</td>\n",
       "      <td>Positive</td>\n",
       "      <td>2</td>\n",
       "      <td>1</td>\n",
       "    </tr>\n",
       "    <tr>\n",
       "      <th>2016-05-31 04:00:00</th>\n",
       "      <td>Study show female heart patients less likely t...</td>\n",
       "      <td>Study show female heart patients less likely t...</td>\n",
       "      <td>http://www.eurekalert.org/pub_releases/2016-05...</td>\n",
       "      <td>http://www.eurekalert.org/pub_releases/2016-05...</td>\n",
       "      <td>en</td>\n",
       "      <td>Negative</td>\n",
       "      <td>4</td>\n",
       "      <td>1</td>\n",
       "    </tr>\n",
       "    <tr>\n",
       "      <th>2016-05-31 04:30:00</th>\n",
       "      <td>Letter to the editor</td>\n",
       "      <td>May 31, 2016 \\nDeath penalty may be on ballot ...</td>\n",
       "      <td>http://www.starbeacon.com/opinion/letters_to_t...</td>\n",
       "      <td>http://www.starbeacon.com/opinion/letters_to_t...</td>\n",
       "      <td>en</td>\n",
       "      <td>Negative</td>\n",
       "      <td>4</td>\n",
       "      <td>1</td>\n",
       "    </tr>\n",
       "    <tr>\n",
       "      <th>2016-05-31 07:10:00</th>\n",
       "      <td>beforeitsnews.com</td>\n",
       "      <td>(Before It's News)\\nLow Back Pain Pipeline Mar...</td>\n",
       "      <td>http://beforeitsnews.com/health/2016/05/low-ba...</td>\n",
       "      <td>http://beforeitsnews.com/health/2016/05/low-ba...</td>\n",
       "      <td>en</td>\n",
       "      <td>Positive</td>\n",
       "      <td>7</td>\n",
       "      <td>1</td>\n",
       "    </tr>\n",
       "    <tr>\n",
       "      <th>2016-05-31 08:00:00</th>\n",
       "      <td>admin</td>\n",
       "      <td>By admin | Health , Wellness | 31 May 2016 | A...</td>\n",
       "      <td>https://tsnnews.com/two-smoking-cessation-drug...</td>\n",
       "      <td>https://tsnnews.com/two-smoking-cessation-drug...</td>\n",
       "      <td>en</td>\n",
       "      <td>Positive</td>\n",
       "      <td>8</td>\n",
       "      <td>1</td>\n",
       "    </tr>\n",
       "  </tbody>\n",
       "</table>\n",
       "</div>"
      ],
      "text/plain": [
       "                                                                Author  \\\n",
       "Time                                                                     \n",
       "2016-05-31 02:40:00  Organ Transplant Immunosuppressant Drugs Marke...   \n",
       "2016-05-31 04:00:00  Study show female heart patients less likely t...   \n",
       "2016-05-31 04:30:00                               Letter to the editor   \n",
       "2016-05-31 07:10:00                                  beforeitsnews.com   \n",
       "2016-05-31 08:00:00                                              admin   \n",
       "\n",
       "                                                                  Text  \\\n",
       "Time                                                                     \n",
       "2016-05-31 02:40:00  Organ Transplant Immunosuppressant Drugs Marke...   \n",
       "2016-05-31 04:00:00  Study show female heart patients less likely t...   \n",
       "2016-05-31 04:30:00  May 31, 2016 \\nDeath penalty may be on ballot ...   \n",
       "2016-05-31 07:10:00  (Before It's News)\\nLow Back Pain Pipeline Mar...   \n",
       "2016-05-31 08:00:00  By admin | Health , Wellness | 31 May 2016 | A...   \n",
       "\n",
       "                                                            ProfileUrl  \\\n",
       "Time                                                                     \n",
       "2016-05-31 02:40:00  http://news.scoopasia.com/index.php/news/organ...   \n",
       "2016-05-31 04:00:00  http://www.eurekalert.org/pub_releases/2016-05...   \n",
       "2016-05-31 04:30:00  http://www.starbeacon.com/opinion/letters_to_t...   \n",
       "2016-05-31 07:10:00  http://beforeitsnews.com/health/2016/05/low-ba...   \n",
       "2016-05-31 08:00:00  https://tsnnews.com/two-smoking-cessation-drug...   \n",
       "\n",
       "                                                               PostUrl Lang  \\\n",
       "Time                                                                          \n",
       "2016-05-31 02:40:00  http://news.scoopasia.com/index.php/news/organ...   en   \n",
       "2016-05-31 04:00:00  http://www.eurekalert.org/pub_releases/2016-05...   en   \n",
       "2016-05-31 04:30:00  http://www.starbeacon.com/opinion/letters_to_t...   en   \n",
       "2016-05-31 07:10:00  http://beforeitsnews.com/health/2016/05/low-ba...   en   \n",
       "2016-05-31 08:00:00  https://tsnnews.com/two-smoking-cessation-drug...   en   \n",
       "\n",
       "                    Sentiment  HourOfDay  DayOfWeek  \n",
       "Time                                                 \n",
       "2016-05-31 02:40:00  Positive          2          1  \n",
       "2016-05-31 04:00:00  Negative          4          1  \n",
       "2016-05-31 04:30:00  Negative          4          1  \n",
       "2016-05-31 07:10:00  Positive          7          1  \n",
       "2016-05-31 08:00:00  Positive          8          1  "
      ]
     },
     "execution_count": 9,
     "metadata": {},
     "output_type": "execute_result"
    }
   ],
   "source": [
    "posts_filename = \"data/posts-2016-06-08-21-35-42.csv\"\n",
    "columns = ['Author', 'Time', 'Text', 'ProfileUrl', 'PostUrl', 'Lang',\n",
    "           'Sentiment']\n",
    "posts = pd.read_csv(posts_filename, parse_dates=['Time'], index_col='Time', usecols=columns)\n",
    "posts['HourOfDay'] = posts.index.hour\n",
    "posts['DayOfWeek'] = posts.index.dayofweek\n",
    "posts.head()"
   ]
  },
  {
   "cell_type": "code",
   "execution_count": 10,
   "metadata": {
    "collapsed": false
   },
   "outputs": [
    {
     "data": {
      "text/plain": [
       "Author        object\n",
       "Text          object\n",
       "ProfileUrl    object\n",
       "PostUrl       object\n",
       "Lang          object\n",
       "Sentiment     object\n",
       "HourOfDay      int32\n",
       "DayOfWeek      int32\n",
       "dtype: object"
      ]
     },
     "execution_count": 10,
     "metadata": {},
     "output_type": "execute_result"
    }
   ],
   "source": [
    "posts.dtypes"
   ]
  },
  {
   "cell_type": "markdown",
   "metadata": {
    "collapsed": true
   },
   "source": [
    "**TTD:**\n",
    "\n",
    "* bring in from a database (use sqlite3)\n",
    "* merge (chapter 5)\n",
    "* maybe ODBC driver (??)\n",
    "* HDF5 files\n",
    "* Feather format (Apache)\n",
    "* JSON (format JSON on the request)\n",
    "* ProtoBuf (??)\n",
    "* Compressed CSV"
   ]
  },
  {
   "cell_type": "code",
   "execution_count": null,
   "metadata": {
    "collapsed": true
   },
   "outputs": [],
   "source": []
  }
 ],
 "metadata": {
  "kernelspec": {
   "display_name": "Python 3",
   "language": "python",
   "name": "python3"
  },
  "language_info": {
   "codemirror_mode": {
    "name": "ipython",
    "version": 3
   },
   "file_extension": ".py",
   "mimetype": "text/x-python",
   "name": "python",
   "nbconvert_exporter": "python",
   "pygments_lexer": "ipython3",
   "version": "3.5.0"
  }
 },
 "nbformat": 4,
 "nbformat_minor": 0
}
