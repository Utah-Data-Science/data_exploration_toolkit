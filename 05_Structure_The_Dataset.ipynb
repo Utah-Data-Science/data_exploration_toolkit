{
 "cells": [
  {
   "cell_type": "markdown",
   "metadata": {},
   "source": [
    "# Structure the Dataset\n",
    "\n",
    "Now that we have an idea of what we're up against, we can start making decisions about what we wish we had.  Sometimes that means we have groups within variables.  Sometimes that means we can derive values by aggregating values or applying functions over the data.  To break this out:\n",
    "\n",
    "* Structuring for Stability\n",
    "* Structuring for Comparability\n",
    "* Structuring for Discoverability\n",
    "\n",
    "**FIXME:** bring in more examples."
   ]
  },
  {
   "cell_type": "markdown",
   "metadata": {
    "collapsed": true
   },
   "source": [
    "**TTD:**\n",
    "\n",
    "* grouping\n",
    "* merging\n",
    "* cumsum, cumprod\n",
    "* all manner of transforms\n"
   ]
  },
  {
   "cell_type": "code",
   "execution_count": null,
   "metadata": {
    "collapsed": true
   },
   "outputs": [],
   "source": []
  }
 ],
 "metadata": {
  "kernelspec": {
   "display_name": "Python 3",
   "language": "python",
   "name": "python3"
  },
  "language_info": {
   "codemirror_mode": {
    "name": "ipython",
    "version": 3
   },
   "file_extension": ".py",
   "mimetype": "text/x-python",
   "name": "python",
   "nbconvert_exporter": "python",
   "pygments_lexer": "ipython3",
   "version": "3.5.0"
  }
 },
 "nbformat": 4,
 "nbformat_minor": 0
}
