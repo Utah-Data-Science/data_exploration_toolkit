{
 "cells": [
  {
   "cell_type": "markdown",
   "metadata": {},
   "source": [
    "# Handle Basic Problems\n",
    "\n",
    "Once we have data, we have to figure out if it's useable yet.  Specifically:\n",
    "\n",
    "* Handle Missing Data\n",
    "* Provide Default Values\n",
    "* Impute Values\n",
    "* Detect Outliers\n",
    "* Filter Outliers\n"
   ]
  },
  {
   "cell_type": "markdown",
   "metadata": {},
   "source": [
    "## Default Dependencies (Again)\n",
    "\n",
    "These are the same dependencies I typically use...sloppily, quickly."
   ]
  },
  {
   "cell_type": "code",
   "execution_count": 1,
   "metadata": {
    "collapsed": true
   },
   "outputs": [],
   "source": [
    "%matplotlib inline\n",
    "from IPython.core.pylabtools import figsize\n",
    "import numpy as np\n",
    "import pandas as pd\n",
    "from matplotlib import pyplot as plt\n",
    "plt.style.use('ggplot')\n",
    "figsize(11,9)\n",
    "\n",
    "import scipy.stats as stats\n",
    "\n",
    "import pymc as pm"
   ]
  },
  {
   "cell_type": "code",
   "execution_count": 2,
   "metadata": {
    "collapsed": true
   },
   "outputs": [],
   "source": [
    "import requests\n",
    "\n",
    "from os.path import join, dirname\n",
    "import os\n",
    "from dotenv import load_dotenv, find_dotenv\n",
    "\n",
    "dotenv_path = join(dirname('__file__'), '.env')\n",
    "load_dotenv(dotenv_path)\n",
    "\n",
    "API_KEY = os.environ.get(\"API_KEY\")"
   ]
  },
  {
   "cell_type": "markdown",
   "metadata": {},
   "source": [
    "Also, here are some data frames, pre-loaded."
   ]
  },
  {
   "cell_type": "code",
   "execution_count": 3,
   "metadata": {
    "collapsed": false
   },
   "outputs": [
    {
     "name": "stdout",
     "output_type": "stream",
     "text": [
      "OK\n"
     ]
    }
   ],
   "source": [
    "git_logs_filename = 'data/popular_open_source_logs.csv'\n",
    "columns = ['timestamp', 'project', 'email', 'lines_inserted', 'lines_removed']\n",
    "git_logs = pd.read_csv(git_logs_filename, index_col='timestamp', usecols=columns)\n",
    "\n",
    "posts_filename = \"data/posts-2016-06-08-21-35-42.csv\"\n",
    "columns = ['Author', 'Time', 'Text', 'ProfileUrl', 'PostUrl', 'Lang',\n",
    "           'Sentiment']\n",
    "posts = pd.read_csv(posts_filename, parse_dates=['Time'], index_col='Time', usecols=columns)\n",
    "posts['HourOfDay'] = posts.index.hour\n",
    "posts['DayOfWeek'] = posts.index.dayofweek\n",
    "\n",
    "alternate_posts_filename = \"data/alt_posts-2016-06-06.csv\"\n",
    "alternate_posts = pd.read_csv(alternate_posts_filename)\n",
    "\n",
    "# This is a County Business Patterns API endpoint\n",
    "url = \"http://api.census.gov/data/2014/cbp?key=%s&get=EMP,ESTAB,EMPSZES,EMPSZES_TTL,PAYANN&for=state:*\" % (API_KEY)\n",
    "result = requests.get(url)\n",
    "result.reason\n",
    "cbp = None\n",
    "if result.ok:\n",
    "    data = result.json()\n",
    "    cbp = pd.DataFrame(data[1:], columns=data[0])\n",
    "print(result.reason)"
   ]
  },
  {
   "cell_type": "markdown",
   "metadata": {},
   "source": [
    "At this point, we have 4 data frames:\n",
    "\n",
    "* git_logs: A history of commit activity for 10 popular open source projects\n",
    "* posts: Some social media post data\n",
    "* alternate_posts: Some social media from another source, same timeframe\n",
    "* cbp: County Business Patterns data from the US Census"
   ]
  },
  {
   "cell_type": "markdown",
   "metadata": {},
   "source": [
    "## Handle Missing Data\n",
    "\n",
    "By default, Pandas skips blank rows.  So, you shouldn't have to deal with that too much.\n",
    "\n",
    "What you do have to deal with is missing values inside a column of data.\n",
    "\n",
    "There is actually a more-complete discussion of this in the [Pandas Documentation](http://pandas.pydata.org/pandas-docs/stable/missing_data.html) if you need to keep going with these issues.\n",
    "\n",
    "Let's take a look at `alternate_posts` again.  I left it messy on purpose.  To figure out what's in there, I literally looked at each column for any values at all. I kept all of those.  That's where the columns variable gets its values.\n",
    "\n",
    "The only data type that I wanted to convert was the index, `CreatedTime`.  If I had wanted to convert other types, I would use a syntax like:\n",
    "\n",
    "    dtypes = {'SenderUserId': np.int32}\n",
    "    pd.read_csv(filename, dtype=dtypes, ...)\n",
    "\n",
    "As it is, there **could** be a couple columns to convert: MediaTypeList and SendUserId.  That's only because other columns use the `Unknown` string when there is a missing value.  Typically I'd leave it as an `np.nan`.  There are benefits to having an easily-identifiable missing value, but as long as I know what's there, I'm OK for now."
   ]
  },
  {
   "cell_type": "code",
   "execution_count": 91,
   "metadata": {
    "collapsed": false
   },
   "outputs": [
    {
     "data": {
      "text/html": [
       "<div>\n",
       "<table border=\"1\" class=\"dataframe\">\n",
       "  <thead>\n",
       "    <tr style=\"text-align: right;\">\n",
       "      <th></th>\n",
       "      <th>UniversalMessageId</th>\n",
       "      <th>SenderUserId</th>\n",
       "      <th>Title</th>\n",
       "      <th>Message</th>\n",
       "      <th>Language</th>\n",
       "      <th>LanguageCode</th>\n",
       "      <th>CountryCode</th>\n",
       "      <th>MediaTypeList</th>\n",
       "      <th>Permalink</th>\n",
       "      <th>Domain</th>\n",
       "      <th>Spam</th>\n",
       "      <th>Action Time</th>\n",
       "      <th>Location</th>\n",
       "    </tr>\n",
       "    <tr>\n",
       "      <th>CreatedTime</th>\n",
       "      <th></th>\n",
       "      <th></th>\n",
       "      <th></th>\n",
       "      <th></th>\n",
       "      <th></th>\n",
       "      <th></th>\n",
       "      <th></th>\n",
       "      <th></th>\n",
       "      <th></th>\n",
       "      <th></th>\n",
       "      <th></th>\n",
       "      <th></th>\n",
       "      <th></th>\n",
       "    </tr>\n",
       "  </thead>\n",
       "  <tbody>\n",
       "    <tr>\n",
       "      <th>2016-06-06 13:48:10</th>\n",
       "      <td>WEB_115_sg_57557f1a111</td>\n",
       "      <td>Unknown</td>\n",
       "      <td>Pfizer presents promising data from next gener...</td>\n",
       "      <td>Pfizer presents promising data from next gener...</td>\n",
       "      <td>English</td>\n",
       "      <td>en</td>\n",
       "      <td>DE</td>\n",
       "      <td>Unknown</td>\n",
       "      <td>http://www.worldpharmanews.com/pfizer/3504-pfi...</td>\n",
       "      <td>worldpharmanews.com</td>\n",
       "      <td>False</td>\n",
       "      <td>Mon Jun 06 13:48:10 GMT 2016</td>\n",
       "      <td>Germany</td>\n",
       "    </tr>\n",
       "    <tr>\n",
       "      <th>2016-06-06 13:47:14</th>\n",
       "      <td>WEB_115_sg_57557ee2a7</td>\n",
       "      <td>Unknown</td>\n",
       "      <td>Research on Osteoporosis Drugs Market Reveals...</td>\n",
       "      <td>Press Releases\\nResearch on Osteoporosis Drugs...</td>\n",
       "      <td>English</td>\n",
       "      <td>en</td>\n",
       "      <td>UN</td>\n",
       "      <td>Unknown</td>\n",
       "      <td>http://news.scoopasia.com/index.php/news/resea...</td>\n",
       "      <td>news.scoopasia.com</td>\n",
       "      <td>False</td>\n",
       "      <td>Mon Jun 06 13:47:14 GMT 2016</td>\n",
       "      <td>Unknown</td>\n",
       "    </tr>\n",
       "    <tr>\n",
       "      <th>2016-06-06 13:42:52</th>\n",
       "      <td>WEB_115_sg_57557ddcab</td>\n",
       "      <td>Unknown</td>\n",
       "      <td>Pfizer Says Pivotal Avelumab Study Shows Posit...</td>\n",
       "      <td>Pfizer Says Pivotal Avelumab Study Shows Posit...</td>\n",
       "      <td>English</td>\n",
       "      <td>en</td>\n",
       "      <td>US</td>\n",
       "      <td>Unknown</td>\n",
       "      <td>http://www.quotenet.com/news/stocks/Pfizer-Say...</td>\n",
       "      <td>quotenet.com</td>\n",
       "      <td>False</td>\n",
       "      <td>Mon Jun 06 13:42:52 GMT 2016</td>\n",
       "      <td>United States</td>\n",
       "    </tr>\n",
       "    <tr>\n",
       "      <th>2016-06-06 13:39:29</th>\n",
       "      <td>WEB_115_sg_57557d1174</td>\n",
       "      <td>Unknown</td>\n",
       "      <td>[ 0 ] Whitehouse Laboratories Returns To MD&amp;M ...</td>\n",
       "      <td>Whitehouse Laboratories Returns To MD&amp;M East A...</td>\n",
       "      <td>English</td>\n",
       "      <td>en</td>\n",
       "      <td>US</td>\n",
       "      <td>Unknown</td>\n",
       "      <td>http://www.bio-medicine.org/medicine-news-1/Wh...</td>\n",
       "      <td>bio-medicine.org</td>\n",
       "      <td>False</td>\n",
       "      <td>Mon Jun 06 13:39:29 GMT 2016</td>\n",
       "      <td>United States</td>\n",
       "    </tr>\n",
       "    <tr>\n",
       "      <th>2016-06-06 13:37:39</th>\n",
       "      <td>WEB_115_sg_57557ca37</td>\n",
       "      <td>Unknown</td>\n",
       "      <td>Orbis Research: United States Antibacterial Dr...</td>\n",
       "      <td>Orbis Research: United States Antibacterial Dr...</td>\n",
       "      <td>English</td>\n",
       "      <td>en</td>\n",
       "      <td>US</td>\n",
       "      <td>Unknown</td>\n",
       "      <td>http://www.medgadget.com/2016/06/orbis-researc...</td>\n",
       "      <td>medgadget.com</td>\n",
       "      <td>False</td>\n",
       "      <td>Mon Jun 06 13:37:39 GMT 2016</td>\n",
       "      <td>United States</td>\n",
       "    </tr>\n",
       "  </tbody>\n",
       "</table>\n",
       "</div>"
      ],
      "text/plain": [
       "                         UniversalMessageId SenderUserId  \\\n",
       "CreatedTime                                                \n",
       "2016-06-06 13:48:10  WEB_115_sg_57557f1a111      Unknown   \n",
       "2016-06-06 13:47:14   WEB_115_sg_57557ee2a7      Unknown   \n",
       "2016-06-06 13:42:52   WEB_115_sg_57557ddcab      Unknown   \n",
       "2016-06-06 13:39:29   WEB_115_sg_57557d1174      Unknown   \n",
       "2016-06-06 13:37:39    WEB_115_sg_57557ca37      Unknown   \n",
       "\n",
       "                                                                 Title  \\\n",
       "CreatedTime                                                              \n",
       "2016-06-06 13:48:10  Pfizer presents promising data from next gener...   \n",
       "2016-06-06 13:47:14   Research on Osteoporosis Drugs Market Reveals...   \n",
       "2016-06-06 13:42:52  Pfizer Says Pivotal Avelumab Study Shows Posit...   \n",
       "2016-06-06 13:39:29  [ 0 ] Whitehouse Laboratories Returns To MD&M ...   \n",
       "2016-06-06 13:37:39  Orbis Research: United States Antibacterial Dr...   \n",
       "\n",
       "                                                               Message  \\\n",
       "CreatedTime                                                              \n",
       "2016-06-06 13:48:10  Pfizer presents promising data from next gener...   \n",
       "2016-06-06 13:47:14  Press Releases\\nResearch on Osteoporosis Drugs...   \n",
       "2016-06-06 13:42:52  Pfizer Says Pivotal Avelumab Study Shows Posit...   \n",
       "2016-06-06 13:39:29  Whitehouse Laboratories Returns To MD&M East A...   \n",
       "2016-06-06 13:37:39  Orbis Research: United States Antibacterial Dr...   \n",
       "\n",
       "                    Language LanguageCode CountryCode MediaTypeList  \\\n",
       "CreatedTime                                                           \n",
       "2016-06-06 13:48:10  English           en          DE       Unknown   \n",
       "2016-06-06 13:47:14  English           en          UN       Unknown   \n",
       "2016-06-06 13:42:52  English           en          US       Unknown   \n",
       "2016-06-06 13:39:29  English           en          US       Unknown   \n",
       "2016-06-06 13:37:39  English           en          US       Unknown   \n",
       "\n",
       "                                                             Permalink  \\\n",
       "CreatedTime                                                              \n",
       "2016-06-06 13:48:10  http://www.worldpharmanews.com/pfizer/3504-pfi...   \n",
       "2016-06-06 13:47:14  http://news.scoopasia.com/index.php/news/resea...   \n",
       "2016-06-06 13:42:52  http://www.quotenet.com/news/stocks/Pfizer-Say...   \n",
       "2016-06-06 13:39:29  http://www.bio-medicine.org/medicine-news-1/Wh...   \n",
       "2016-06-06 13:37:39  http://www.medgadget.com/2016/06/orbis-researc...   \n",
       "\n",
       "                                  Domain   Spam                   Action Time  \\\n",
       "CreatedTime                                                                     \n",
       "2016-06-06 13:48:10  worldpharmanews.com  False  Mon Jun 06 13:48:10 GMT 2016   \n",
       "2016-06-06 13:47:14   news.scoopasia.com  False  Mon Jun 06 13:47:14 GMT 2016   \n",
       "2016-06-06 13:42:52         quotenet.com  False  Mon Jun 06 13:42:52 GMT 2016   \n",
       "2016-06-06 13:39:29     bio-medicine.org  False  Mon Jun 06 13:39:29 GMT 2016   \n",
       "2016-06-06 13:37:39        medgadget.com  False  Mon Jun 06 13:37:39 GMT 2016   \n",
       "\n",
       "                          Location  \n",
       "CreatedTime                         \n",
       "2016-06-06 13:48:10        Germany  \n",
       "2016-06-06 13:47:14        Unknown  \n",
       "2016-06-06 13:42:52  United States  \n",
       "2016-06-06 13:39:29  United States  \n",
       "2016-06-06 13:37:39  United States  "
      ]
     },
     "execution_count": 91,
     "metadata": {},
     "output_type": "execute_result"
    }
   ],
   "source": [
    "alternate_posts_filename = \"data/alt_posts-2016-06-06.csv\"\n",
    "columns = ['UniversalMessageId', 'SenderUserId', 'Title', 'Message',\n",
    "           'CreatedTime', 'Language', 'LanguageCode', 'CountryCode',\n",
    "           'MediaTypeList', 'Permalink', 'Domain', 'Spam', 'Action Time', 'Location']\n",
    "alternate_posts = pd.read_csv(alternate_posts_filename,\n",
    "                              usecols=columns,\n",
    "                              index_col='CreatedTime',\n",
    "                              parse_dates=['CreatedTime'])\n",
    "alternate_posts.MediaTypeList.fillna(value='Unknown', inplace=True)\n",
    "alternate_posts.SenderUserId.fillna(value='Unknown', inplace=True)\n",
    "alternate_posts.head()"
   ]
  },
  {
   "cell_type": "markdown",
   "metadata": {},
   "source": [
    "**FIXME:** This notebook is left intentionally unfinished.  Come back and keep importing examples."
   ]
  },
  {
   "cell_type": "code",
   "execution_count": null,
   "metadata": {
    "collapsed": true
   },
   "outputs": [],
   "source": []
  }
 ],
 "metadata": {
  "kernelspec": {
   "display_name": "Python 3",
   "language": "python",
   "name": "python3"
  },
  "language_info": {
   "codemirror_mode": {
    "name": "ipython",
    "version": 3
   },
   "file_extension": ".py",
   "mimetype": "text/x-python",
   "name": "python",
   "nbconvert_exporter": "python",
   "pygments_lexer": "ipython3",
   "version": "3.5.0"
  }
 },
 "nbformat": 4,
 "nbformat_minor": 0
}
